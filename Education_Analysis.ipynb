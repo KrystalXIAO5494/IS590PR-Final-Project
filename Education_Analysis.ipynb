{
  "nbformat": 4,
  "nbformat_minor": 0,
  "metadata": {
    "colab": {
      "name": "Education_Analysis.ipynb",
      "provenance": []
    },
    "kernelspec": {
      "name": "python3",
      "display_name": "Python 3"
    }
  },
  "cells": [
    {
      "cell_type": "markdown",
      "metadata": {
        "id": "2fjj8TkEMoyy",
        "colab_type": "text"
      },
      "source": [
        "Hypothesis: Rate of higher education is increasing every year for regions with positive economic growth. (GDP per capita)"
      ]
    },
    {
      "cell_type": "code",
      "metadata": {
        "id": "3555ub7GMj3W",
        "colab_type": "code",
        "colab": {}
      },
      "source": [
        "import pandas as pd\n",
        "import numpy as np\n",
        "import csv"
      ],
      "execution_count": 0,
      "outputs": []
    },
    {
      "cell_type": "code",
      "metadata": {
        "id": "uWO_DNPxM_yN",
        "colab_type": "code",
        "colab": {}
      },
      "source": [
        "# gross_tertiary_enroll = pd.read_csv()"
      ],
      "execution_count": 0,
      "outputs": []
    }
  ]
}